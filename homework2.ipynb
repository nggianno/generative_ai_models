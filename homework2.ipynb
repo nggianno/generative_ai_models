{
 "cells": [
  {
   "cell_type": "code",
   "execution_count": 38,
   "id": "fb98c9bd",
   "metadata": {},
   "outputs": [],
   "source": [
    "from scipy.sparse.csgraph import minimum_spanning_tree\n",
    "from scipy.sparse.csgraph import breadth_first_order\n",
    "from scipy.special import logsumexp\n",
    "import numpy as np\n",
    "import csv\n",
    "import pandas as pd\n",
    "from itertools import combinations\n",
    "import math"
   ]
  },
  {
   "cell_type": "code",
   "execution_count": 39,
   "id": "1ad03746",
   "metadata": {},
   "outputs": [],
   "source": [
    "def joint_prob(df,alpha,rv1,rv2,val1,val2):\n",
    "\n",
    "    joint_p = (alpha + len(df[(df[rv1] == val1) & (df[rv2] == val2)])) / (4 * alpha + len(df))\n",
    "\n",
    "    return joint_p\n"
   ]
  },
  {
   "cell_type": "code",
   "execution_count": 40,
   "id": "a094e29b",
   "metadata": {},
   "outputs": [],
   "source": [
    "def single_prob(df, alpha, rv, val):\n",
    "\n",
    "    single_p = (2* alpha + len(df[(df[rv] == val)])) / (4 * alpha + len(df))\n",
    "\n",
    "    return single_p"
   ]
  },
  {
   "cell_type": "code",
   "execution_count": 41,
   "id": "229ed725",
   "metadata": {},
   "outputs": [],
   "source": [
    "def mutual_info(df,rv1,rv2,alpha):\n",
    "\n",
    "    summ = 0\n",
    "    for i in [0, 1]:\n",
    "        for j in [0, 1]:\n",
    "\n",
    "            summ += joint_prob(df,alpha,rv1,rv2,i,j) * \\\n",
    "                    math.log(joint_prob(df,alpha,rv1,rv2,i,j) / single_prob(df,alpha,rv1,i) * single_prob(df,alpha,rv2,j))\n",
    "\n",
    "    return summ"
   ]
  },
  {
   "cell_type": "code",
   "execution_count": 110,
   "id": "59569dd5",
   "metadata": {},
   "outputs": [
    {
     "name": "stderr",
     "output_type": "stream",
     "text": [
      "C:\\Users\\user\\AppData\\Local\\Temp\\ipykernel_13952\\477851111.py:5: DeprecationWarning: `np.float` is a deprecated alias for the builtin `float`. To silence this warning, use `float` by itself. Doing this will not modify any behavior and is safe. If you specifically wanted the numpy scalar type, use `np.float64` here.\n",
      "Deprecated in NumPy 1.20; for more details and guidance: https://numpy.org/devdocs/release/1.20.0-notes.html#deprecations\n",
      "  dataset = np.array(list(reader)).astype(np.float)\n"
     ]
    }
   ],
   "source": [
    "#read dataset\n",
    "with open(\"binary_datasets/nltcs/nltcs.train.data\", \"r\" ) as file:\n",
    "\n",
    "    reader = csv.reader(file, delimiter=',')\n",
    "    dataset = np.array(list(reader)).astype(np.float)\n",
    "\n",
    "df = pd.DataFrame(dataset, columns = list(range(0, dataset.shape[1])))"
   ]
  },
  {
   "cell_type": "code",
   "execution_count": 165,
   "id": "c58607e2",
   "metadata": {},
   "outputs": [],
   "source": [
    "from scipy.sparse.csgraph import minimum_spanning_tree\n",
    "\n",
    "class BinaryCLT:\n",
    "    def __init__(self, data, root: int = None, alpha: float = 0.01):\n",
    "\n",
    "        if root == None:\n",
    "            root = np.random.choice(data.shape[1])\n",
    "\n",
    "        #calculate mutual infromation for all RV combinations and fill the table\n",
    "        mi_table = np.zeros((data.shape[1],data.shape[1]))\n",
    "\n",
    "        for xi in range(data.shape[1]):\n",
    "            for xj in range(xi + 1, data.shape[1]):\n",
    "\n",
    "                mi_val = mutual_info(data,xi,xj,alpha)\n",
    "                mi_table[xi,xj] = mi_val\n",
    "#                 mi_table[xj,xi] = mi_val\n",
    "        \n",
    "        #calculate the minimum spanning tree\n",
    "#         print(mi_table)\n",
    "        min_span_tree = minimum_spanning_tree(-mi_table)\n",
    "\n",
    "        #get directed tree\n",
    "        directed_tree = breadth_first_order(min_span_tree,0,directed = True, return_predecessors=True)\n",
    "        self.tree_nodes = directed_tree[0]\n",
    "        self.ancestors = directed_tree[1]\n",
    "                \n",
    "    def get_tree(self):\n",
    "\n",
    "        tree_nodes = self.tree_nodes\n",
    "        ancestors = self.ancestors\n",
    "\n",
    "        return tree_nodes,ancestors\n",
    "\n",
    "    def get_log_params(self):\n",
    "\n",
    "        pass\n",
    "\n",
    "    def log_prob(self, x, exhaustive: bool = False):\n",
    "\n",
    "        pass\n",
    "\n",
    "    def sample(self, n_samples: int):\n",
    "\n",
    "        pass\n"
   ]
  },
  {
   "cell_type": "code",
   "execution_count": 166,
   "id": "e62cb43b",
   "metadata": {},
   "outputs": [
    {
     "name": "stdout",
     "output_type": "stream",
     "text": [
      "[ 0 15] [-9999 -9999 -9999 -9999 -9999 -9999 -9999 -9999 -9999 -9999 -9999 -9999\n",
      " -9999 -9999 -9999     0]\n"
     ]
    }
   ],
   "source": [
    "binaryclt_obj = BinaryCLT(data = df)\n",
    "tree_nodes, ancestors = binaryclt_obj.get_tree()\n",
    "print(tree_nodes,ancestors)"
   ]
  },
  {
   "cell_type": "code",
   "execution_count": 167,
   "id": "56f95502",
   "metadata": {},
   "outputs": [
    {
     "name": "stdout",
     "output_type": "stream",
     "text": [
      "[ 0 15] [-9999 -9999 -9999 -9999 -9999 -9999 -9999 -9999 -9999 -9999 -9999 -9999\n",
      " -9999 -9999 -9999     0]\n",
      "[[[-0.1580114  -1.92305371]\n",
      "  [-0.1580114  -1.92305371]]\n",
      "\n",
      " [[ 0.          0.        ]\n",
      "  [ 0.          0.        ]]\n",
      "\n",
      " [[ 0.          0.        ]\n",
      "  [ 0.          0.        ]]\n",
      "\n",
      " [[ 0.          0.        ]\n",
      "  [ 0.          0.        ]]\n",
      "\n",
      " [[ 0.          0.        ]\n",
      "  [ 0.          0.        ]]\n",
      "\n",
      " [[ 0.          0.        ]\n",
      "  [ 0.          0.        ]]\n",
      "\n",
      " [[ 0.          0.        ]\n",
      "  [ 0.          0.        ]]\n",
      "\n",
      " [[ 0.          0.        ]\n",
      "  [ 0.          0.        ]]\n",
      "\n",
      " [[ 0.          0.        ]\n",
      "  [ 0.          0.        ]]\n",
      "\n",
      " [[ 0.          0.        ]\n",
      "  [ 0.          0.        ]]\n",
      "\n",
      " [[ 0.          0.        ]\n",
      "  [ 0.          0.        ]]\n",
      "\n",
      " [[ 0.          0.        ]\n",
      "  [ 0.          0.        ]]\n",
      "\n",
      " [[ 0.          0.        ]\n",
      "  [ 0.          0.        ]]\n",
      "\n",
      " [[ 0.          0.        ]\n",
      "  [ 0.          0.        ]]\n",
      "\n",
      " [[ 0.          0.        ]\n",
      "  [ 0.          0.        ]]\n",
      "\n",
      " [[-0.05382667 -0.52788489]\n",
      "  [-2.94877886 -0.89123538]]]\n"
     ]
    }
   ],
   "source": [
    "#log params[i,j,k] Dx2x2\n",
    "log_params = np.zeros((16,2,2))\n",
    "alpha = 0.01\n",
    "print(tree_nodes,ancestors)\n",
    "root = 0\n",
    "# tree_nodes = [0,1,2]\n",
    "# ancestors = [-9999,0,1,-9999,-9999,-9999,-9999,-9999,\n",
    "#              -9999,-9999,-9999,-9999,-9999,-9999,-9999,-9999]\n",
    "\n",
    "for i in range(df.shape[1]):\n",
    "    \n",
    "    if (ancestors[i]==-9999) and (i != root): continue\n",
    "    else:\n",
    "        if i == root:\n",
    "            log_params[i,0,0] = math.log(single_prob(df, alpha, i, 0))\n",
    "            log_params[i,0,1] = math.log(single_prob(df, alpha, i, 1))\n",
    "            log_params[i,1,0] = log_params[i,0,0]\n",
    "            log_params[i,1,1] = log_params[i,0,1]\n",
    "            \n",
    "        else:\n",
    "            for j in [0,1]:\n",
    "                for k in [0,1]:\n",
    "\n",
    "                    cond_p = joint_prob(df,alpha,i,ancestors[i],j,k) / single_prob(df, alpha, ancestors[i], k)\n",
    "                    log_params[i,j,k] = math.log(cond_p)\n",
    "            \n",
    "print(log_params)\n"
   ]
  },
  {
   "cell_type": "code",
   "execution_count": 164,
   "id": "8db39d53",
   "metadata": {},
   "outputs": [
    {
     "data": {
      "text/plain": [
       "array([[[-0.158, -1.923],\n",
       "        [-0.158, -1.923]],\n",
       "\n",
       "       [[-0.143, -1.116],\n",
       "        [-2.019, -0.397]],\n",
       "\n",
       "       [[-0.131, -1.022],\n",
       "        [-2.099, -0.446]],\n",
       "\n",
       "       [[ 0.   ,  0.   ],\n",
       "        [ 0.   ,  0.   ]],\n",
       "\n",
       "       [[ 0.   ,  0.   ],\n",
       "        [ 0.   ,  0.   ]],\n",
       "\n",
       "       [[ 0.   ,  0.   ],\n",
       "        [ 0.   ,  0.   ]],\n",
       "\n",
       "       [[ 0.   ,  0.   ],\n",
       "        [ 0.   ,  0.   ]],\n",
       "\n",
       "       [[ 0.   ,  0.   ],\n",
       "        [ 0.   ,  0.   ]],\n",
       "\n",
       "       [[ 0.   ,  0.   ],\n",
       "        [ 0.   ,  0.   ]],\n",
       "\n",
       "       [[ 0.   ,  0.   ],\n",
       "        [ 0.   ,  0.   ]],\n",
       "\n",
       "       [[ 0.   ,  0.   ],\n",
       "        [ 0.   ,  0.   ]],\n",
       "\n",
       "       [[ 0.   ,  0.   ],\n",
       "        [ 0.   ,  0.   ]],\n",
       "\n",
       "       [[ 0.   ,  0.   ],\n",
       "        [ 0.   ,  0.   ]],\n",
       "\n",
       "       [[ 0.   ,  0.   ],\n",
       "        [ 0.   ,  0.   ]],\n",
       "\n",
       "       [[ 0.   ,  0.   ],\n",
       "        [ 0.   ,  0.   ]],\n",
       "\n",
       "       [[ 0.   ,  0.   ],\n",
       "        [ 0.   ,  0.   ]]])"
      ]
     },
     "execution_count": 164,
     "metadata": {},
     "output_type": "execute_result"
    }
   ],
   "source": [
    "np.round(log_params,3)"
   ]
  },
  {
   "cell_type": "code",
   "execution_count": null,
   "id": "53c4248b",
   "metadata": {},
   "outputs": [],
   "source": []
  }
 ],
 "metadata": {
  "kernelspec": {
   "display_name": "Python 3 (ipykernel)",
   "language": "python",
   "name": "python3"
  },
  "language_info": {
   "codemirror_mode": {
    "name": "ipython",
    "version": 3
   },
   "file_extension": ".py",
   "mimetype": "text/x-python",
   "name": "python",
   "nbconvert_exporter": "python",
   "pygments_lexer": "ipython3",
   "version": "3.8.8"
  }
 },
 "nbformat": 4,
 "nbformat_minor": 5
}
